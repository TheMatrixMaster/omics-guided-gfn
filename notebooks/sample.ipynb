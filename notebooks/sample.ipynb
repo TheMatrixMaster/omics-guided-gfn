{
 "cells": [
  {
   "cell_type": "code",
   "execution_count": null,
   "metadata": {},
   "outputs": [],
   "source": [
    "import yaml\n",
    "import numpy as np\n",
    "import hydra\n",
    "import torch\n",
    "from tqdm import tqdm\n",
    "from omegaconf import OmegaConf\n",
    "from pytorch_lightning import (\n",
    "    LightningDataModule,\n",
    "    seed_everything,\n",
    ")\n",
    "\n",
    "from multimodal_contrastive.analysis.utils import *\n",
    "from multimodal_contrastive.utils import utils\n",
    "from gflownet.config import Config, init_from_dict\n",
    "from gflownet.data.data_source import DataSource\n",
    "from gflownet.tasks.morph_frag import MorphSimilarityTrainer\n",
    "\n",
    "# register custom resolvers if not already registered\n",
    "OmegaConf.register_new_resolver(\"sum\", lambda input_list: np.sum(input_list), replace=True)\n",
    "\n",
    "device = \"cuda\" if torch.cuda.is_available() else \"cpu\"\n",
    "device"
   ]
  },
  {
   "cell_type": "code",
   "execution_count": null,
   "metadata": {},
   "outputs": [],
   "source": [
    "## TODO: Replace with paths to run directory and gmc checkpoint\n",
    "run_dir = \"path.to/gfn_run_dir\"\n",
    "ckpt_path = \"path.to/gmc_proxy.ckpt\""
   ]
  },
  {
   "cell_type": "code",
   "execution_count": 3,
   "metadata": {},
   "outputs": [],
   "source": [
    "def load_trainer(run_dir):\n",
    "    # Setup path to saved run configuration\n",
    "    with open(run_dir + \"/config.yaml\", \"r\") as f:\n",
    "        run_config = yaml.load(f, Loader=yaml.FullLoader)\n",
    "\n",
    "    config = init_from_dict(Config(), run_config)\n",
    "    config.log_dir = \"~/your_log_dir\"\n",
    "    config.overwrite_existing_exp = True\n",
    "\n",
    "    # Load gflownet model trainer setup for sampling\n",
    "    trainer = MorphSimilarityTrainer(config)\n",
    "\n",
    "    model_state = torch.load(f'{run_dir}/model_state.pt')\n",
    "    trainer.model.load_state_dict(model_state['models_state_dict'][0])\n",
    "    trainer.model = trainer.model.cuda()\n",
    "    \n",
    "    return trainer\n",
    "\n",
    "def sample_from_trained_model(run_dir, n_samples, n_samples_per_iter = 64, trainer=None):\n",
    "    if trainer is None:\n",
    "        trainer = load_trainer(run_dir)\n",
    "\n",
    "    # Sample trajectories using the trained model\n",
    "    n_iterations = n_samples // n_samples_per_iter\n",
    "    src = DataSource(trainer.cfg, trainer.ctx, trainer.algo, trainer.task, replay_buffer=None)\n",
    "    \n",
    "    samples = []\n",
    "    with torch.no_grad():\n",
    "        for t in range(n_iterations):\n",
    "            p = 0.01\n",
    "            cond_info = trainer.task.sample_conditional_information(n_samples_per_iter, t)\n",
    "            trajs = trainer.algo.create_training_data_from_own_samples(trainer.model, n_samples_per_iter, cond_info[\"encoding\"], p)\n",
    "            src.set_traj_cond_info(trajs, cond_info)\n",
    "            src.compute_properties(trajs, mark_as_online=True)\n",
    "            src.compute_log_rewards(trajs)\n",
    "            \n",
    "            for traj in trajs:\n",
    "                if traj['mol'] is None:\n",
    "                    continue\n",
    "                mol = traj['mol']\n",
    "                reward = traj['flat_rewards']\n",
    "                samples.append((mol, reward))\n",
    "\n",
    "    return samples\n",
    "        "
   ]
  },
  {
   "cell_type": "markdown",
   "metadata": {},
   "source": [
    "## Load the GMC Proxy Model"
   ]
  },
  {
   "cell_type": "code",
   "execution_count": null,
   "metadata": {},
   "outputs": [],
   "source": [
    "# Load config for GMC proxy model\n",
    "config_name = \"puma_sm_gmc\"\n",
    "configs_path = \"../../configs\"\n",
    "\n",
    "with hydra.initialize(version_base=None, config_path=configs_path):\n",
    "    cfg = hydra.compose(config_name=config_name)\n",
    "\n",
    "print(cfg.datamodule.split_type)\n",
    "\n",
    "# Set seed for random number generators in pytorch, numpy and python.random\n",
    "# and especially for generating the same data splits for the test set\n",
    "if cfg.get(\"seed\"):\n",
    "    seed_everything(cfg.seed, workers=True)\n",
    "\n",
    "# Load model from checkpoint\n",
    "model = utils.instantiate_model(cfg)\n",
    "model = model.load_from_checkpoint(ckpt_path, map_location=device)\n",
    "model = model.eval()"
   ]
  },
  {
   "cell_type": "markdown",
   "metadata": {},
   "source": [
    "## Sample from the GFlowNet"
   ]
  },
  {
   "cell_type": "code",
   "execution_count": null,
   "metadata": {},
   "outputs": [],
   "source": [
    "n_samples = 1000\n",
    "samples = sample_from_trained_model(run_dir, n_samples, 128)\n",
    "rewards = [reward.item() for _, reward in samples]"
   ]
  }
 ],
 "metadata": {
  "kernelspec": {
   "display_name": "gfn",
   "language": "python",
   "name": "python3"
  },
  "language_info": {
   "codemirror_mode": {
    "name": "ipython",
    "version": 3
   },
   "file_extension": ".py",
   "mimetype": "text/x-python",
   "name": "python",
   "nbconvert_exporter": "python",
   "pygments_lexer": "ipython3",
   "version": "3.10.13"
  }
 },
 "nbformat": 4,
 "nbformat_minor": 2
}
