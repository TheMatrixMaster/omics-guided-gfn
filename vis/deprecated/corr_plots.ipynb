{
 "cells": [
  {
   "cell_type": "code",
   "execution_count": 1,
   "metadata": {},
   "outputs": [],
   "source": [
    "%load_ext autoreload\n",
    "%autoreload 2"
   ]
  },
  {
   "cell_type": "code",
   "execution_count": 2,
   "metadata": {},
   "outputs": [
    {
     "name": "stderr",
     "output_type": "stream",
     "text": [
      "/home/mila/s/stephen.lu/miniconda3/envs/gfn/lib/python3.10/site-packages/tqdm/auto.py:21: TqdmWarning: IProgress not found. Please update jupyter and ipywidgets. See https://ipywidgets.readthedocs.io/en/stable/user_install.html\n",
      "  from .autonotebook import tqdm as notebook_tqdm\n"
     ]
    }
   ],
   "source": [
    "from batch_plot import *\n",
    "import seaborn as sns"
   ]
  },
  {
   "cell_type": "code",
   "execution_count": 3,
   "metadata": {},
   "outputs": [],
   "source": [
    "def predict_assay_logits_from_smi(smis, assay_model, target_active_assay_cols):\n",
    "    full_df = pd.DataFrame(smis, columns=[\"smiles\"])\n",
    "    dataset = TestDataset(full_df, mol_col=\"smiles\", label_col=None)\n",
    "    dataloader = make_eval_data_loader(dataset, batch_size=2048)\n",
    "    y_hat = []\n",
    "    for batch in tqdm(dataloader):\n",
    "        y_hat.append(assay_model(batch)[0].detach().cpu().numpy())\n",
    "    y_hat = np.vstack(y_hat)\n",
    "    logit_values = y_hat[:, target_active_assay_cols.tolist()].squeeze()\n",
    "    print(logit_values.shape)\n",
    "    return logit_values\n",
    "\n",
    "def predict_latents_from_smi(cfg, smis, n_samples=20000):\n",
    "    mmc_model = load_mmc_model(cfg)\n",
    "    random_idx = np.random.choice(len(smis), n_samples, replace=False)\n",
    "    graphs = [mol2graph(Chem.MolFromSmiles(smi)) for smi in tqdm(smis[random_idx])]\n",
    "\n",
    "    preds = []\n",
    "    batch_size = 2048\n",
    "    for i in range(0, len(graphs), batch_size):\n",
    "        batch = gd.Batch.from_data_list([i for i in graphs[i:i+batch_size] if i is not None])\n",
    "        batch.to(mmc_model.device if hasattr(mmc_model, 'device') else device)\n",
    "        pred = mmc_model({\"inputs\": {\"struct\": batch}}, mod_name=\"struct\")\n",
    "        pred = pred.data.cpu().detach().numpy()\n",
    "        preds.append(pred)\n",
    "\n",
    "    return np.vstack(preds)"
   ]
  },
  {
   "cell_type": "markdown",
   "metadata": {},
   "source": [
    "## Plot the correlation between gflownet reward and assay activity\n",
    "We first choose a target sample, then retrieve all molecules sampled by gfn for that target along with the active assay columns under this target. We then compute the assay prediction logits for all sampled molecules and plot the correlation between the gflownet reward and the assay activity logit."
   ]
  },
  {
   "cell_type": "code",
   "execution_count": 9,
   "metadata": {},
   "outputs": [],
   "source": [
    "target_id = 903\n",
    "run_id = \"04-24-01-46-morph-sim-final-targets/snowy-sweep-3-id-in1e3736\""
   ]
  },
  {
   "cell_type": "code",
   "execution_count": 5,
   "metadata": {},
   "outputs": [
    {
     "name": "stdout",
     "output_type": "stream",
     "text": [
      "shuffled_scaffold\n"
     ]
    },
    {
     "name": "stderr",
     "output_type": "stream",
     "text": [
      "Skipped loading some Tensorflow models, missing a dependency. No module named 'tensorflow'\n",
      "Skipped loading some Jax models, missing a dependency. No module named 'jax'\n"
     ]
    },
    {
     "name": "stdout",
     "output_type": "stream",
     "text": [
      "Train on samples from shuffled_scaffold.\n",
      "Train on 13582 samples.\n",
      "Validate on 1698 samples.\n",
      "Test on 1698 samples.\n"
     ]
    }
   ],
   "source": [
    "# Obtain representations and fingerprints for puma dataset\n",
    "datamodule, cfg = setup_puma()\n",
    "representations = get_representations()\n",
    "dataset_fps = get_fingerprints(None)\n",
    "dataset_smis = [x[\"inputs\"][\"struct\"].mols for x in datamodule.dataset]\n",
    "assay_dataset = load_assay_matrix_from_csv()\n",
    "assay_model = load_assay_pred_model()"
   ]
  },
  {
   "cell_type": "code",
   "execution_count": 6,
   "metadata": {},
   "outputs": [
    {
     "name": "stdout",
     "output_type": "stream",
     "text": [
      "Target struct~morph alignment:  0.8091375\n"
     ]
    }
   ],
   "source": [
    "target_fp = dataset_fps[target_id]\n",
    "target_smi = datamodule.dataset[target_id][\"inputs\"][\"struct\"].mols.decode(\"utf-8\")\n",
    "target_struct_latent = representations['struct'][target_id]\n",
    "target_morph_latent = representations['morph'][target_id]\n",
    "target_active_assay_cols = get_active_assay_cols(assay_dataset, target_smi)\n",
    "target_reward = cosine_similarity(target_struct_latent.reshape(1, -1), target_morph_latent.reshape(1, -1))[0][0]\n",
    "print(f\"Target struct~morph alignment: \", target_reward)"
   ]
  },
  {
   "cell_type": "code",
   "execution_count": 7,
   "metadata": {},
   "outputs": [
    {
     "name": "stderr",
     "output_type": "stream",
     "text": [
      "152770it [00:00, 509190.11it/s]"
     ]
    },
    {
     "name": "stderr",
     "output_type": "stream",
     "text": [
      "640000it [00:01, 510054.68it/s]\n",
      "100%|██████████| 640000/640000 [00:08<00:00, 71915.17it/s]\n"
     ]
    },
    {
     "name": "stdout",
     "output_type": "stream",
     "text": [
      "Max Tanimoto Similarity to Target:  0.8862876254180602\n"
     ]
    }
   ],
   "source": [
    "base_dir = \"/home/mila/s/stephen.lu/scratch/gfn_gene/wandb_sweeps\"\n",
    "\n",
    "# Obtain fingerprints and smis for random sampling model\n",
    "random_fps, _, random_smis = get_data_from_run(\n",
    "    base_dir,\n",
    "    \"04-12-03-58-morph-sim-target-67-algo/swift-sweep-4-id-08lkh6fe\",\n",
    "    target_fp\n",
    ")"
   ]
  },
  {
   "cell_type": "markdown",
   "metadata": {},
   "source": [
    "## Redo plots by binning, then reporting top-k per bin"
   ]
  },
  {
   "cell_type": "code",
   "execution_count": 10,
   "metadata": {},
   "outputs": [
    {
     "name": "stderr",
     "output_type": "stream",
     "text": [
      "196941it [00:00, 490967.61it/s]"
     ]
    },
    {
     "name": "stderr",
     "output_type": "stream",
     "text": [
      "640000it [00:01, 437234.38it/s]\n",
      "100%|██████████| 640000/640000 [00:10<00:00, 61295.97it/s]\n"
     ]
    },
    {
     "name": "stdout",
     "output_type": "stream",
     "text": [
      "Max Tanimoto Similarity to Target:  0.6557788944723618\n"
     ]
    }
   ],
   "source": [
    "fps, rewards, smis = get_data_from_run(base_dir, run_id, target_fp)\n",
    "smis = np.array(smis)\n",
    "rewards = np.array(rewards)\n",
    "tanimoto_sims = np.array(AllChem.DataStructs.BulkTanimotoSimilarity(target_fp, fps))"
   ]
  },
  {
   "cell_type": "code",
   "execution_count": 124,
   "metadata": {},
   "outputs": [
    {
     "name": "stderr",
     "output_type": "stream",
     "text": [
      "INFO:root:Instantiating torch.nn.module JointEncoder\n",
      "INFO:root:Instantiating lightning model <multimodal_contrastive.networks.models.GMC_PL>\n"
     ]
    },
    {
     "name": "stderr",
     "output_type": "stream",
     "text": [
      "/home/mila/s/stephen.lu/miniconda3/envs/gfn/lib/python3.10/site-packages/pytorch_lightning/utilities/parsing.py:196: UserWarning: Attribute 'encoder_joint' is an instance of `nn.Module` and is already saved during checkpointing. It is recommended to ignore them using `self.save_hyperparameters(ignore=['encoder_joint'])`.\n",
      "  rank_zero_warn(\n",
      "/home/mila/s/stephen.lu/miniconda3/envs/gfn/lib/python3.10/site-packages/pytorch_lightning/utilities/parsing.py:196: UserWarning: Attribute 'common_encoder' is an instance of `nn.Module` and is already saved during checkpointing. It is recommended to ignore them using `self.save_hyperparameters(ignore=['common_encoder'])`.\n",
      "  rank_zero_warn(\n",
      "100%|██████████| 30000/30000 [01:19<00:00, 377.56it/s]\n"
     ]
    }
   ],
   "source": [
    "# obtain latent representation for all random samples\n",
    "mmc_model = load_mmc_model(cfg)\n",
    "random_idx = np.random.choice(len(random_smis), 30000, replace=False)\n",
    "graphs = [mol2graph(Chem.MolFromSmiles(smi)) for smi in tqdm(smis[random_idx])]\n",
    "\n",
    "preds = []\n",
    "batch_size = 2048\n",
    "for i in range(0, len(graphs), batch_size):\n",
    "    batch = gd.Batch.from_data_list([i for i in graphs[i:i+batch_size] if i is not None])\n",
    "    batch.to(mmc_model.device if hasattr(mmc_model, 'device') else device)\n",
    "    pred = mmc_model({\"inputs\": {\"struct\": batch}}, mod_name=\"struct\")\n",
    "    pred = pred.data.cpu().detach().numpy()\n",
    "    preds.append(pred)"
   ]
  },
  {
   "cell_type": "code",
   "execution_count": 125,
   "metadata": {},
   "outputs": [
    {
     "name": "stderr",
     "output_type": "stream",
     "text": [
      "100%|██████████| 15/15 [00:12<00:00,  1.17it/s]"
     ]
    },
    {
     "name": "stdout",
     "output_type": "stream",
     "text": [
      "(30000,)\n",
      "(30000,) (30000,)\n",
      "0.7251167442260077 0.06269476409433855\n"
     ]
    },
    {
     "name": "stderr",
     "output_type": "stream",
     "text": [
      "\n"
     ]
    }
   ],
   "source": [
    "preds = np.vstack(preds)\n",
    "random_smis = [random_smis[i] for i in random_idx]\n",
    "random_fps = [random_fps[i] for i in random_idx]\n",
    "random_rewards = np.array([(cosine_similarity(target_struct_latent.reshape(1, -1), pred.reshape(1, -1))[0][0]+1)/2 for pred in preds])\n",
    "random_tan_sim_to_target = np.array(AllChem.DataStructs.BulkTanimotoSimilarity(target_fp, random_fps))\n",
    "random_assay_logits = predict_assay_logits_from_smi(random_smis, assay_model, target_active_assay_cols)\n",
    "\n",
    "print(random_rewards.shape, random_tan_sim_to_target.shape)\n",
    "print(random_rewards.mean(), random_rewards.std())"
   ]
  },
  {
   "cell_type": "code",
   "execution_count": 126,
   "metadata": {},
   "outputs": [
    {
     "name": "stdout",
     "output_type": "stream",
     "text": [
      "(670000,) (670000,)\n"
     ]
    }
   ],
   "source": [
    "rewards = np.concatenate([rewards, random_rewards])\n",
    "tanimoto_sims = np.concatenate([tanimoto_sims, random_tan_sim_to_target])\n",
    "print(rewards.shape, tanimoto_sims.shape)"
   ]
  },
  {
   "cell_type": "markdown",
   "metadata": {},
   "source": [
    "### Plot Top-K Tanimoto Similarity per Binned Reward"
   ]
  },
  {
   "cell_type": "code",
   "execution_count": 127,
   "metadata": {},
   "outputs": [
    {
     "name": "stdout",
     "output_type": "stream",
     "text": [
      "Number of samples per bin:\n",
      "Bin 0: 0\n",
      "Bin 1: 0\n",
      "Bin 2: 0\n",
      "Bin 3: 0\n",
      "Bin 4: 27\n",
      "Bin 5: 672\n",
      "Bin 6: 10903\n",
      "Bin 7: 19616\n",
      "Bin 8: 121617\n",
      "Bin 9: 517165\n"
     ]
    },
    {
     "data": {
      "image/png": "[encoded data removed]",
      "text/plain": [
       "<Figure size 640x480 with 1 Axes>"
      ]
     },
     "metadata": {},
     "output_type": "display_data"
    }
   ],
   "source": [
    "# bin samples by reward in intervals of \"interval\" where reward can be in [0, 1] range\n",
    "interval = 0.1\n",
    "reward_bins = np.arange(0, 1.1, interval)\n",
    "reward_bin_idx = np.digitize(rewards, reward_bins)\n",
    "reward_bin_idx = np.clip(reward_bin_idx, 1, len(reward_bins)-1)\n",
    "reward_bin_idx -= 1\n",
    "\n",
    "print(\"Number of samples per bin:\")\n",
    "for i in range(len(reward_bins)-1):\n",
    "    print(f\"Bin {i}: {np.sum(reward_bin_idx == i)}\")\n",
    "\n",
    "# find the top-k tanimoto similarity values per bin\n",
    "k = 10\n",
    "selected_samples = []\n",
    "top_k_tan_sims_per_bin = {}\n",
    "for i in range(len(reward_bins)-1):\n",
    "    bin_idx = np.where(reward_bin_idx == i)[0]\n",
    "    if len(bin_idx) == 0: continue\n",
    "    tan_sims_in_bin = tanimoto_sims[bin_idx]\n",
    "    top_k_idx = np.argsort(tan_sims_in_bin[:500])[::-1][:k]\n",
    "    top_k_tan_sims_per_bin[i] = bin_idx[top_k_idx]\n",
    "    selected_samples.extend([(rewards[j], tanimoto_sims[j]) for j in bin_idx[top_k_idx]])\n",
    "\n",
    "# compute correlation coeff with selected samples\n",
    "selected_rewards = [x[0] for x in selected_samples]\n",
    "selected_tan_sims = [x[1] for x in selected_samples]\n",
    "corr = np.corrcoef(selected_rewards, selected_tan_sims)[0, 1]\n",
    "\n",
    "# plot the top-k tanimoto similarity values per bin\n",
    "fig, ax = plt.subplots()\n",
    "for i in range(len(reward_bins)-1):\n",
    "    if i not in top_k_tan_sims_per_bin: continue\n",
    "    bin_idx = top_k_tan_sims_per_bin[i]\n",
    "    ax.scatter(rewards[bin_idx], tanimoto_sims[bin_idx], alpha=1, s=10, label=f\"Bin {i}\")\n",
    "\n",
    "ax.set_xlabel(\"Reward Bin\")\n",
    "ax.set_ylabel(\"Tanimoto similarity to target\")\n",
    "ax.set_title(f\"Top-{k} Tanimoto similarity values per reward bin (corr={corr:.2f})\")\n",
    "plt.show()"
   ]
  },
  {
   "cell_type": "markdown",
   "metadata": {},
   "source": [
    "### Plot Top-K Assay Activity Logits per Binned Reward "
   ]
  },
  {
   "cell_type": "code",
   "execution_count": 131,
   "metadata": {},
   "outputs": [
    {
     "name": "stderr",
     "output_type": "stream",
     "text": [
      "  0%|          | 0/313 [00:00<?, ?it/s]"
     ]
    },
    {
     "name": "stderr",
     "output_type": "stream",
     "text": [
      "100%|██████████| 313/313 [06:51<00:00,  1.31s/it]"
     ]
    },
    {
     "name": "stdout",
     "output_type": "stream",
     "text": [
      "(640000,)\n"
     ]
    },
    {
     "name": "stderr",
     "output_type": "stream",
     "text": [
      "\n"
     ]
    },
    {
     "data": {
      "text/plain": [
       "(670000,)"
      ]
     },
     "execution_count": 131,
     "metadata": {},
     "output_type": "execute_result"
    }
   ],
   "source": [
    "# First, we need to obtain logit predictions for the entire dataset which will \n",
    "# take some time to run\n",
    "logit_values = predict_assay_logits_from_smi(smis, assay_model, target_active_assay_cols)\n",
    "logit_values = np.concatenate([logit_values, random_assay_logits])\n",
    "logit_values.shape"
   ]
  },
  {
   "cell_type": "code",
   "execution_count": 135,
   "metadata": {},
   "outputs": [
    {
     "data": {
      "image/png": "[encoded data removed]",
      "text/plain": [
       "<Figure size 640x480 with 1 Axes>"
      ]
     },
     "metadata": {},
     "output_type": "display_data"
    }
   ],
   "source": [
    "# Plot the top-k logit values per reward bin, same as above but replacing tanimoto sim for logit\n",
    "k = 10\n",
    "selected_samples = []\n",
    "top_k_logit_values_per_bin = {}\n",
    "for i in range(len(reward_bins)-1):\n",
    "    bin_idx = np.where(reward_bin_idx == i)[0]\n",
    "    if len(bin_idx) == 0: continue\n",
    "    logit_values_in_bin = logit_values[bin_idx]\n",
    "    top_k_idx = np.argsort(logit_values_in_bin[:5000])[::-1][:k]\n",
    "    top_k_logit_values_per_bin[i] = bin_idx[top_k_idx]\n",
    "    selected_samples.extend([(rewards[j], logit_values[j]) for j in bin_idx[top_k_idx]])\n",
    "\n",
    "# compute correlation coeff with selected samples\n",
    "selected_rewards = [x[0] for x in selected_samples]\n",
    "selected_logit_values = [x[1] for x in selected_samples]\n",
    "corr = np.corrcoef(selected_rewards, selected_logit_values)[0, 1]\n",
    "\n",
    "# plot the top-k logit values per bin\n",
    "fig, ax = plt.subplots()\n",
    "for i in range(len(reward_bins)-1):\n",
    "    if i not in top_k_logit_values_per_bin: continue\n",
    "    bin_idx = top_k_logit_values_per_bin[i]\n",
    "    ax.scatter(rewards[bin_idx], logit_values[bin_idx], alpha=1, s=10, label=f\"Bin {i}\")\n",
    "\n",
    "ax.set_xlabel(\"Reward Bin\")\n",
    "ax.set_ylabel(\"Logit values\")\n",
    "ax.set_title(f\"Top-{k} Logit values per reward bin (corr={corr:.2f})\")\n",
    "plt.show()"
   ]
  },
  {
   "cell_type": "markdown",
   "metadata": {},
   "source": [
    "### Plot histogram of assay activity of top gflownet samples by reward"
   ]
  },
  {
   "cell_type": "code",
   "execution_count": null,
   "metadata": {},
   "outputs": [],
   "source": [
    "# Plots a histogram of the top-k highest logit values among all molecules sampled by each method\n",
    "active_cols = target_active_assay_cols.tolist() if isinstance(target_active_assay_cols, torch.Tensor) else target_active_assay_cols\n",
    "fig, ax = plt.subplots(1, len(active_cols), figsize=(5*len(active_cols), 5), squeeze=False)\n",
    "\n",
    "for model_name, smi in smis.items():\n",
    "    if len(smi) < k or model_name in [\"Target\"]:\n",
    "        continue\n",
    "    # create a test dataset using the smiles and run inference with assay model\n",
    "    full_df = pd.DataFrame(smi, columns=[\"smiles\"])\n",
    "    dataset = TestDataset(full_df, mol_col=\"smiles\", label_col=None)\n",
    "    dataloader = make_eval_data_loader(dataset, batch_size=128)\n",
    "    y_hat = []\n",
    "    for batch in tqdm(dataloader):\n",
    "        y_hat.append(assay_model(batch)[0].detach().cpu().numpy())\n",
    "    y_hat = np.vstack(y_hat)\n",
    "    logit_values = y_hat[:, active_cols]\n",
    "    # for each active column, we produce a separate hist plot of the logit values\n",
    "    for i, col in enumerate(active_cols):\n",
    "        # keep the top-k highest logit values in the current active column\n",
    "        values = np.sort(logit_values[:, i])[::-1][:k]\n",
    "        print(np.max(values), np.min(values))\n",
    "        ax[0,i].hist(values, bins=50, label=model_name, alpha=0.4, density=True)\n",
    "\n",
    "for i, col in enumerate(active_cols):\n",
    "    ax[0,i].legend()\n",
    "    ax[0,i].set_xlabel(\"Logit Value\")\n",
    "    ax[0,i].set_ylabel(\"Density\")\n",
    "    ax[0,i].set_title(f\"Top-k Logit Values for assay {col}\")\n",
    "\n",
    "plt.show()"
   ]
  },
  {
   "cell_type": "markdown",
   "metadata": {},
   "source": [
    "## Plot correlation between gflownet reward and target alignment"
   ]
  },
  {
   "cell_type": "code",
   "execution_count": 51,
   "metadata": {},
   "outputs": [
    {
     "name": "stdout",
     "output_type": "stream",
     "text": [
      "Target struct~morph alignment:  0.5116119\n"
     ]
    },
    {
     "name": "stderr",
     "output_type": "stream",
     "text": [
      "91703it [00:00, 458477.18it/s]"
     ]
    },
    {
     "name": "stderr",
     "output_type": "stream",
     "text": [
      "640000it [00:01, 504907.63it/s]\n",
      "100%|██████████| 640000/640000 [00:11<00:00, 55875.33it/s]\n"
     ]
    },
    {
     "name": "stdout",
     "output_type": "stream",
     "text": [
      "0.39918533604887985\n"
     ]
    },
    {
     "name": "stderr",
     "output_type": "stream",
     "text": [
      "100%|██████████| 5/5 [00:05<00:00,  1.11s/it]\n"
     ]
    },
    {
     "name": "stdout",
     "output_type": "stream",
     "text": [
      "Target struct~morph alignment:  0.8091375\n"
     ]
    },
    {
     "name": "stderr",
     "output_type": "stream",
     "text": [
      "640000it [00:01, 505832.43it/s]\n",
      "100%|██████████| 640000/640000 [00:10<00:00, 58671.46it/s]\n"
     ]
    },
    {
     "name": "stdout",
     "output_type": "stream",
     "text": [
      "0.5345345345345346\n"
     ]
    },
    {
     "name": "stderr",
     "output_type": "stream",
     "text": [
      "100%|██████████| 5/5 [00:05<00:00,  1.11s/it]\n"
     ]
    },
    {
     "name": "stdout",
     "output_type": "stream",
     "text": [
      "Target struct~morph alignment:  0.7213545\n"
     ]
    },
    {
     "name": "stderr",
     "output_type": "stream",
     "text": [
      "640000it [00:01, 458708.30it/s]\n",
      "100%|██████████| 640000/640000 [00:11<00:00, 56058.31it/s]\n"
     ]
    },
    {
     "name": "stdout",
     "output_type": "stream",
     "text": [
      "0.4054621848739496\n"
     ]
    },
    {
     "name": "stderr",
     "output_type": "stream",
     "text": [
      "100%|██████████| 5/5 [00:05<00:00,  1.12s/it]\n"
     ]
    },
    {
     "name": "stdout",
     "output_type": "stream",
     "text": [
      "Target struct~morph alignment:  0.14777172\n"
     ]
    },
    {
     "name": "stderr",
     "output_type": "stream",
     "text": [
      "640000it [00:01, 508889.81it/s]\n",
      "100%|██████████| 640000/640000 [00:10<00:00, 59178.58it/s]\n"
     ]
    },
    {
     "name": "stdout",
     "output_type": "stream",
     "text": [
      "0.3710691823899371\n"
     ]
    },
    {
     "name": "stderr",
     "output_type": "stream",
     "text": [
      "100%|██████████| 5/5 [00:05<00:00,  1.10s/it]\n"
     ]
    },
    {
     "name": "stdout",
     "output_type": "stream",
     "text": [
      "Target struct~morph alignment:  0.37507135\n"
     ]
    },
    {
     "name": "stderr",
     "output_type": "stream",
     "text": [
      "640000it [00:01, 492756.22it/s]\n",
      "100%|██████████| 640000/640000 [00:10<00:00, 58219.59it/s]\n"
     ]
    },
    {
     "name": "stdout",
     "output_type": "stream",
     "text": [
      "0.35877862595419846\n"
     ]
    },
    {
     "name": "stderr",
     "output_type": "stream",
     "text": [
      "100%|██████████| 5/5 [00:05<00:00,  1.12s/it]\n"
     ]
    },
    {
     "name": "stdout",
     "output_type": "stream",
     "text": [
      "Target struct~morph alignment:  0.5820285\n"
     ]
    },
    {
     "name": "stderr",
     "output_type": "stream",
     "text": [
      "640000it [00:01, 506204.15it/s]\n",
      "100%|██████████| 640000/640000 [00:11<00:00, 55909.90it/s]\n"
     ]
    },
    {
     "name": "stdout",
     "output_type": "stream",
     "text": [
      "0.46174863387978143\n"
     ]
    },
    {
     "name": "stderr",
     "output_type": "stream",
     "text": [
      "100%|██████████| 5/5 [00:05<00:00,  1.11s/it]\n"
     ]
    },
    {
     "name": "stdout",
     "output_type": "stream",
     "text": [
      "Target struct~morph alignment:  0.074719705\n"
     ]
    },
    {
     "name": "stderr",
     "output_type": "stream",
     "text": [
      "640000it [00:01, 429492.19it/s]\n",
      "100%|██████████| 640000/640000 [00:11<00:00, 56057.81it/s]\n"
     ]
    },
    {
     "name": "stdout",
     "output_type": "stream",
     "text": [
      "0.4107981220657277\n"
     ]
    },
    {
     "name": "stderr",
     "output_type": "stream",
     "text": [
      "100%|██████████| 5/5 [00:05<00:00,  1.11s/it]\n"
     ]
    },
    {
     "name": "stdout",
     "output_type": "stream",
     "text": [
      "Target struct~morph alignment:  0.28096998\n"
     ]
    },
    {
     "name": "stderr",
     "output_type": "stream",
     "text": [
      "640000it [00:01, 507736.68it/s]\n",
      "100%|██████████| 640000/640000 [00:10<00:00, 58962.12it/s]\n"
     ]
    },
    {
     "name": "stdout",
     "output_type": "stream",
     "text": [
      "0.5179856115107914\n"
     ]
    },
    {
     "name": "stderr",
     "output_type": "stream",
     "text": [
      "100%|██████████| 5/5 [00:05<00:00,  1.12s/it]\n"
     ]
    },
    {
     "data": {
      "image/png": "[encoded data removed]",
      "text/plain": [
       "<Figure size 1000x500 with 2 Axes>"
      ]
     },
     "metadata": {},
     "output_type": "display_data"
    }
   ],
   "source": [
    "fig, ax = plt.subplots(1, 2, figsize=(10, 5))\n",
    "\n",
    "target_idx = [6888, 903, 2288, 10075, 1847, 8838, 13905, 39]\n",
    "for target_id in target_idx:\n",
    "    target_fp = dataset_fps[target_id]\n",
    "    target_smi = datamodule.dataset[target_id][\"inputs\"][\"struct\"].mols.decode(\"utf-8\")\n",
    "    target_struct_latent = representations['struct'][target_id]\n",
    "    target_morph_latent = representations['morph'][target_id]\n",
    "    target_active_assay_cols = get_active_assay_cols(assay_dataset, target_smi)\n",
    "    target_reward = cosine_similarity(target_struct_latent.reshape(1, -1), target_morph_latent.reshape(1, -1))[0][0]\n",
    "    print(f\"Target struct~morph alignment: \", target_reward)\n",
    "    fps, rewards, smis = get_data_from_run(base_dir, run_id, target_fp)\n",
    "\n",
    "    rnd_idx = np.random.choice(len(smis), 10000, replace=False)\n",
    "    fps = [fps[i] for i in rnd_idx]\n",
    "    rewards = [rewards[i] for i in rnd_idx]\n",
    "    smis = [smis[i] for i in rnd_idx]\n",
    "\n",
    "    full_df = pd.DataFrame(smis, columns=[\"smiles\"])\n",
    "    dataset = TestDataset(full_df, mol_col=\"smiles\", label_col=None)\n",
    "    dataloader = make_eval_data_loader(dataset, batch_size=2048)\n",
    "    y_hat = []\n",
    "    for batch in tqdm(dataloader):\n",
    "        y_hat.append(assay_model(batch)[0].detach().cpu().numpy())\n",
    "    y_hat = np.vstack(y_hat)\n",
    "    logit_values = y_hat[:, target_active_assay_cols.tolist()]\n",
    "\n",
    "    for i, col in enumerate(target_active_assay_cols):\n",
    "        ax[1].scatter([target_reward]*len(rewards), logit_values[:, i], alpha=0.5, s=1)\n",
    "    \n",
    "    # scatter plot target reward versus rewards\n",
    "    ax[0].scatter([target_reward]*len(rewards), rewards, alpha=0.5, s=1)\n",
    "\n",
    "ax[0].set_xlabel(\"Target reward\")\n",
    "ax[0].set_ylabel(\"Reward\")\n",
    "ax[0].set_title(\"Target reward vs. Reward\")\n",
    "\n",
    "ax[1].set_xlabel(\"Target reward\")\n",
    "ax[1].set_ylabel(\"Target assay logits\")\n",
    "ax[1].set_title(\"Target reward vs. Assay logits\")\n",
    "\n",
    "plt.show()"
   ]
  }
 ],
 "metadata": {
  "kernelspec": {
   "display_name": "gfn",
   "language": "python",
   "name": "python3"
  },
  "language_info": {
   "codemirror_mode": {
    "name": "ipython",
    "version": 3
   },
   "file_extension": ".py",
   "mimetype": "text/x-python",
   "name": "python",
   "nbconvert_exporter": "python",
   "pygments_lexer": "ipython3",
   "version": "3.10.13"
  }
 },
 "nbformat": 4,
 "nbformat_minor": 2
}
